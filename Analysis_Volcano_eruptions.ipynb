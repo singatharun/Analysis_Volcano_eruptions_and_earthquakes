{
 "cells": [
  {
   "cell_type": "code",
   "execution_count": 1,
   "metadata": {},
   "outputs": [],
   "source": [
    "import pandas as pd\n",
    "import numpy as np\n",
    "import seaborn as sns\n",
    "import matplotlib.pyplot as plt\n",
    "import warnings\n",
    "warnings.filterwarnings('ignore')\n",
    "#import essential libraries."
   ]
  },
  {
   "cell_type": "code",
   "execution_count": 2,
   "metadata": {},
   "outputs": [],
   "source": [
    "volcano=pd.read_csv(r\"C:\\Users\\singa tharun reddy\\Desktop\\Github projects\\Volcano_eruptions\\database.csv\")"
   ]
  },
  {
   "cell_type": "code",
   "execution_count": 3,
   "metadata": {},
   "outputs": [
    {
     "data": {
      "text/html": [
       "<div>\n",
       "<style scoped>\n",
       "    .dataframe tbody tr th:only-of-type {\n",
       "        vertical-align: middle;\n",
       "    }\n",
       "\n",
       "    .dataframe tbody tr th {\n",
       "        vertical-align: top;\n",
       "    }\n",
       "\n",
       "    .dataframe thead th {\n",
       "        text-align: right;\n",
       "    }\n",
       "</style>\n",
       "<table border=\"1\" class=\"dataframe\">\n",
       "  <thead>\n",
       "    <tr style=\"text-align: right;\">\n",
       "      <th></th>\n",
       "      <th>Number</th>\n",
       "      <th>Name</th>\n",
       "      <th>Country</th>\n",
       "      <th>Region</th>\n",
       "      <th>Type</th>\n",
       "      <th>Activity Evidence</th>\n",
       "      <th>Last Known Eruption</th>\n",
       "      <th>Latitude</th>\n",
       "      <th>Longitude</th>\n",
       "      <th>Elevation (Meters)</th>\n",
       "      <th>Dominant Rock Type</th>\n",
       "      <th>Tectonic Setting</th>\n",
       "    </tr>\n",
       "  </thead>\n",
       "  <tbody>\n",
       "    <tr>\n",
       "      <th>0</th>\n",
       "      <td>210010</td>\n",
       "      <td>West Eifel Volcanic Field</td>\n",
       "      <td>Germany</td>\n",
       "      <td>Mediterranean and Western Asia</td>\n",
       "      <td>Maar(s)</td>\n",
       "      <td>Eruption Dated</td>\n",
       "      <td>8300 BCE</td>\n",
       "      <td>50.170</td>\n",
       "      <td>6.85</td>\n",
       "      <td>600</td>\n",
       "      <td>Foidite</td>\n",
       "      <td>Rift Zone / Continental Crust (&gt;25 km)</td>\n",
       "    </tr>\n",
       "    <tr>\n",
       "      <th>1</th>\n",
       "      <td>210020</td>\n",
       "      <td>Chaine des Puys</td>\n",
       "      <td>France</td>\n",
       "      <td>Mediterranean and Western Asia</td>\n",
       "      <td>Lava dome(s)</td>\n",
       "      <td>Eruption Dated</td>\n",
       "      <td>4040 BCE</td>\n",
       "      <td>45.775</td>\n",
       "      <td>2.97</td>\n",
       "      <td>1464</td>\n",
       "      <td>Basalt / Picro-Basalt</td>\n",
       "      <td>Rift Zone / Continental Crust (&gt;25 km)</td>\n",
       "    </tr>\n",
       "    <tr>\n",
       "      <th>2</th>\n",
       "      <td>210030</td>\n",
       "      <td>Olot Volcanic Field</td>\n",
       "      <td>Spain</td>\n",
       "      <td>Mediterranean and Western Asia</td>\n",
       "      <td>Pyroclastic cone(s)</td>\n",
       "      <td>Evidence Credible</td>\n",
       "      <td>Unknown</td>\n",
       "      <td>42.170</td>\n",
       "      <td>2.53</td>\n",
       "      <td>893</td>\n",
       "      <td>Trachybasalt / Tephrite Basanite</td>\n",
       "      <td>Intraplate / Continental Crust (&gt;25 km)</td>\n",
       "    </tr>\n",
       "    <tr>\n",
       "      <th>3</th>\n",
       "      <td>210040</td>\n",
       "      <td>Calatrava Volcanic Field</td>\n",
       "      <td>Spain</td>\n",
       "      <td>Mediterranean and Western Asia</td>\n",
       "      <td>Pyroclastic cone(s)</td>\n",
       "      <td>Eruption Dated</td>\n",
       "      <td>3600 BCE</td>\n",
       "      <td>38.870</td>\n",
       "      <td>-4.02</td>\n",
       "      <td>1117</td>\n",
       "      <td>Basalt / Picro-Basalt</td>\n",
       "      <td>Intraplate / Continental Crust (&gt;25 km)</td>\n",
       "    </tr>\n",
       "    <tr>\n",
       "      <th>4</th>\n",
       "      <td>211001</td>\n",
       "      <td>Larderello</td>\n",
       "      <td>Italy</td>\n",
       "      <td>Mediterranean and Western Asia</td>\n",
       "      <td>Explosion crater(s)</td>\n",
       "      <td>Eruption Observed</td>\n",
       "      <td>1282 CE</td>\n",
       "      <td>43.250</td>\n",
       "      <td>10.87</td>\n",
       "      <td>500</td>\n",
       "      <td>No Data</td>\n",
       "      <td>Subduction Zone / Continental Crust (&gt;25 km)</td>\n",
       "    </tr>\n",
       "  </tbody>\n",
       "</table>\n",
       "</div>"
      ],
      "text/plain": [
       "   Number                       Name  Country                          Region  \\\n",
       "0  210010  West Eifel Volcanic Field  Germany  Mediterranean and Western Asia   \n",
       "1  210020            Chaine des Puys   France  Mediterranean and Western Asia   \n",
       "2  210030        Olot Volcanic Field    Spain  Mediterranean and Western Asia   \n",
       "3  210040   Calatrava Volcanic Field    Spain  Mediterranean and Western Asia   \n",
       "4  211001                 Larderello    Italy  Mediterranean and Western Asia   \n",
       "\n",
       "                  Type  Activity Evidence Last Known Eruption  Latitude  \\\n",
       "0              Maar(s)     Eruption Dated            8300 BCE    50.170   \n",
       "1         Lava dome(s)     Eruption Dated            4040 BCE    45.775   \n",
       "2  Pyroclastic cone(s)  Evidence Credible             Unknown    42.170   \n",
       "3  Pyroclastic cone(s)     Eruption Dated            3600 BCE    38.870   \n",
       "4  Explosion crater(s)  Eruption Observed             1282 CE    43.250   \n",
       "\n",
       "   Longitude  Elevation (Meters)                Dominant Rock Type  \\\n",
       "0       6.85                 600                           Foidite   \n",
       "1       2.97                1464             Basalt / Picro-Basalt   \n",
       "2       2.53                 893  Trachybasalt / Tephrite Basanite   \n",
       "3      -4.02                1117             Basalt / Picro-Basalt   \n",
       "4      10.87                 500                           No Data   \n",
       "\n",
       "                               Tectonic Setting  \n",
       "0        Rift Zone / Continental Crust (>25 km)  \n",
       "1        Rift Zone / Continental Crust (>25 km)  \n",
       "2       Intraplate / Continental Crust (>25 km)  \n",
       "3       Intraplate / Continental Crust (>25 km)  \n",
       "4  Subduction Zone / Continental Crust (>25 km)  "
      ]
     },
     "execution_count": 3,
     "metadata": {},
     "output_type": "execute_result"
    }
   ],
   "source": [
    "volcano.head()"
   ]
  },
  {
   "cell_type": "code",
   "execution_count": 4,
   "metadata": {},
   "outputs": [
    {
     "data": {
      "text/plain": [
       "(1508, 12)"
      ]
     },
     "execution_count": 4,
     "metadata": {},
     "output_type": "execute_result"
    }
   ],
   "source": [
    "volcano.shape"
   ]
  },
  {
   "cell_type": "code",
   "execution_count": 5,
   "metadata": {},
   "outputs": [
    {
     "data": {
      "text/plain": [
       "Number                 1508\n",
       "Name                   1478\n",
       "Country                 100\n",
       "Region                   19\n",
       "Type                     33\n",
       "Activity Evidence         6\n",
       "Last Known Eruption     399\n",
       "Latitude               1445\n",
       "Longitude              1468\n",
       "Elevation (Meters)     1208\n",
       "Dominant Rock Type       11\n",
       "Tectonic Setting         11\n",
       "dtype: int64"
      ]
     },
     "execution_count": 5,
     "metadata": {},
     "output_type": "execute_result"
    }
   ],
   "source": [
    "volcano.nunique()"
   ]
  },
  {
   "cell_type": "code",
   "execution_count": 6,
   "metadata": {},
   "outputs": [
    {
     "data": {
      "text/plain": [
       "Number                  0\n",
       "Name                    0\n",
       "Country                 0\n",
       "Region                  0\n",
       "Type                    0\n",
       "Activity Evidence       1\n",
       "Last Known Eruption     0\n",
       "Latitude                0\n",
       "Longitude               0\n",
       "Elevation (Meters)      0\n",
       "Dominant Rock Type     53\n",
       "Tectonic Setting        7\n",
       "dtype: int64"
      ]
     },
     "execution_count": 6,
     "metadata": {},
     "output_type": "execute_result"
    }
   ],
   "source": [
    "volcano.isna().sum()"
   ]
  },
  {
   "cell_type": "code",
   "execution_count": 7,
   "metadata": {},
   "outputs": [],
   "source": [
    "volcano[\"Tectonic Setting\"].fillna(value=\"Unkown\", inplace=True)"
   ]
  },
  {
   "cell_type": "code",
   "execution_count": 8,
   "metadata": {},
   "outputs": [],
   "source": [
    "volcano[\"Dominant Rock Type\"].fillna(value=\"Other\", inplace=True)"
   ]
  },
  {
   "cell_type": "code",
   "execution_count": 9,
   "metadata": {},
   "outputs": [
    {
     "data": {
      "text/plain": [
       "Number                 0\n",
       "Name                   0\n",
       "Country                0\n",
       "Region                 0\n",
       "Type                   0\n",
       "Activity Evidence      1\n",
       "Last Known Eruption    0\n",
       "Latitude               0\n",
       "Longitude              0\n",
       "Elevation (Meters)     0\n",
       "Dominant Rock Type     0\n",
       "Tectonic Setting       0\n",
       "dtype: int64"
      ]
     },
     "execution_count": 9,
     "metadata": {},
     "output_type": "execute_result"
    }
   ],
   "source": [
    "volcano.isna().sum()"
   ]
  },
  {
   "cell_type": "code",
   "execution_count": 10,
   "metadata": {},
   "outputs": [],
   "source": [
    "volcano.dropna(inplace=True)"
   ]
  },
  {
   "cell_type": "code",
   "execution_count": 12,
   "metadata": {},
   "outputs": [
    {
     "data": {
      "text/plain": [
       "Subduction Zone / Continental Crust (>25 km)       762\n",
       "Intraplate / Continental Crust (>25 km)            156\n",
       "Subduction Zone / Oceanic Crust (< 15 km)          131\n",
       "Rift Zone / Continental Crust (>25 km)             109\n",
       "Rift Zone / Oceanic Crust (< 15 km)                101\n",
       "Subduction Zone / Crust Thickness Unknown           83\n",
       "Subduction Zone / Intermediate Crust (15-25 km)     78\n",
       "Rift Zone / Intermediate Crust (15-25 km)           43\n",
       "Intraplate / Oceanic Crust (< 15 km)                31\n",
       "Unkown                                               7\n",
       "Intraplate / Intermediate Crust (15-25 km)           5\n",
       "Unknown                                              1\n",
       "Name: Tectonic Setting, dtype: int64"
      ]
     },
     "execution_count": 12,
     "metadata": {},
     "output_type": "execute_result"
    }
   ],
   "source": [
    "volcano[\"Tectonic Setting\"].value_counts()"
   ]
  },
  {
   "cell_type": "code",
   "execution_count": 15,
   "metadata": {},
   "outputs": [],
   "source": [
    "volcano[\"Tectonic Setting\"]=volcano[\"Tectonic Setting\"].str.replace(\"Unkown\", \"Unknown\")"
   ]
  },
  {
   "cell_type": "code",
   "execution_count": 16,
   "metadata": {},
   "outputs": [
    {
     "data": {
      "text/plain": [
       "Subduction Zone / Continental Crust (>25 km)       762\n",
       "Intraplate / Continental Crust (>25 km)            156\n",
       "Subduction Zone / Oceanic Crust (< 15 km)          131\n",
       "Rift Zone / Continental Crust (>25 km)             109\n",
       "Rift Zone / Oceanic Crust (< 15 km)                101\n",
       "Subduction Zone / Crust Thickness Unknown           83\n",
       "Subduction Zone / Intermediate Crust (15-25 km)     78\n",
       "Rift Zone / Intermediate Crust (15-25 km)           43\n",
       "Intraplate / Oceanic Crust (< 15 km)                31\n",
       "Unknown                                              8\n",
       "Intraplate / Intermediate Crust (15-25 km)           5\n",
       "Name: Tectonic Setting, dtype: int64"
      ]
     },
     "execution_count": 16,
     "metadata": {},
     "output_type": "execute_result"
    }
   ],
   "source": [
    "volcano[\"Tectonic Setting\"].value_counts()"
   ]
  },
  {
   "cell_type": "code",
   "execution_count": 18,
   "metadata": {},
   "outputs": [
    {
     "data": {
      "image/png": "[encoded data removed]",
      "text/plain": [
       "<Figure size 1080x576 with 1 Axes>"
      ]
     },
     "metadata": {
      "needs_background": "light"
     },
     "output_type": "display_data"
    }
   ],
   "source": [
    "Tectonic=volcano[\"Tectonic Setting\"].value_counts()\n",
    "f, ax = plt.subplots(figsize=(15,8))\n",
    "sns.barplot(x=Tectonic.values,y=Tectonic.index,palette=\"rocket\",edgecolor='black')\n",
    "plt.ylabel(\"Type of tectonic\", fontsize=15)\n",
    "plt.yticks(fontsize=10)\n",
    "plt.xlabel(\"Count\", fontsize=15)\n",
    "plt.title(\"Tectonic Tends\",fontsize=15)\n",
    "plt.show()"
   ]
  },
  {
   "cell_type": "code",
   "execution_count": 22,
   "metadata": {},
   "outputs": [
    {
     "data": {
      "text/plain": [
       "Number                 1507\n",
       "Name                   1477\n",
       "Country                 100\n",
       "Region                   19\n",
       "Type                     33\n",
       "Activity Evidence         6\n",
       "Last Known Eruption     399\n",
       "Latitude               1444\n",
       "Longitude              1467\n",
       "Elevation (Meters)     1207\n",
       "Dominant Rock Type       12\n",
       "Tectonic Setting         11\n",
       "dtype: int64"
      ]
     },
     "execution_count": 22,
     "metadata": {},
     "output_type": "execute_result"
    }
   ],
   "source": [
    "volcano.nunique()"
   ]
  },
  {
   "cell_type": "code",
   "execution_count": 21,
   "metadata": {},
   "outputs": [
    {
     "data": {
      "image/png": "[encoded data removed]",
      "text/plain": [
       "<Figure size 1080x576 with 1 Axes>"
      ]
     },
     "metadata": {
      "needs_background": "light"
     },
     "output_type": "display_data"
    }
   ],
   "source": [
    "evidence=volcano[\"Activity Evidence\"].value_counts()\n",
    "f, ax = plt.subplots(figsize=(15,8))\n",
    "sns.barplot(x=evidence.values,y=evidence.index,palette=\"rocket\",edgecolor='black')\n",
    "plt.ylabel(\"Type of Evidence\", fontsize=15)\n",
    "plt.yticks(fontsize=10)\n",
    "plt.xlabel(\"Count\", fontsize=15)\n",
    "plt.title(\"Activity Evidence Tends\",fontsize=15)\n",
    "plt.show()"
   ]
  },
  {
   "cell_type": "code",
   "execution_count": 40,
   "metadata": {},
   "outputs": [],
   "source": [
    "elevation=volcano.groupby([\"Tectonic Setting\"])[\"Elevation (Meters)\"].mean().reset_index()\n",
    "elevation = elevation.sort_values(by=\"Elevation (Meters)\",ascending=False)"
   ]
  },
  {
   "cell_type": "code",
   "execution_count": 43,
   "metadata": {},
   "outputs": [
    {
     "data": {
      "text/html": [
       "<div>\n",
       "<style scoped>\n",
       "    .dataframe tbody tr th:only-of-type {\n",
       "        vertical-align: middle;\n",
       "    }\n",
       "\n",
       "    .dataframe tbody tr th {\n",
       "        vertical-align: top;\n",
       "    }\n",
       "\n",
       "    .dataframe thead th {\n",
       "        text-align: right;\n",
       "    }\n",
       "</style>\n",
       "<table border=\"1\" class=\"dataframe\">\n",
       "  <thead>\n",
       "    <tr style=\"text-align: right;\">\n",
       "      <th></th>\n",
       "      <th>Tectonic Setting</th>\n",
       "      <th>Elevation (Meters)</th>\n",
       "    </tr>\n",
       "  </thead>\n",
       "  <tbody>\n",
       "    <tr>\n",
       "      <th>6</th>\n",
       "      <td>Subduction Zone / Continental Crust (&gt;25 km)</td>\n",
       "      <td>2317.236220</td>\n",
       "    </tr>\n",
       "    <tr>\n",
       "      <th>0</th>\n",
       "      <td>Intraplate / Continental Crust (&gt;25 km)</td>\n",
       "      <td>1846.282051</td>\n",
       "    </tr>\n",
       "    <tr>\n",
       "      <th>3</th>\n",
       "      <td>Rift Zone / Continental Crust (&gt;25 km)</td>\n",
       "      <td>1787.412844</td>\n",
       "    </tr>\n",
       "    <tr>\n",
       "      <th>1</th>\n",
       "      <td>Intraplate / Intermediate Crust (15-25 km)</td>\n",
       "      <td>1375.600000</td>\n",
       "    </tr>\n",
       "    <tr>\n",
       "      <th>8</th>\n",
       "      <td>Subduction Zone / Intermediate Crust (15-25 km)</td>\n",
       "      <td>1018.974359</td>\n",
       "    </tr>\n",
       "    <tr>\n",
       "      <th>2</th>\n",
       "      <td>Intraplate / Oceanic Crust (&lt; 15 km)</td>\n",
       "      <td>927.645161</td>\n",
       "    </tr>\n",
       "    <tr>\n",
       "      <th>4</th>\n",
       "      <td>Rift Zone / Intermediate Crust (15-25 km)</td>\n",
       "      <td>858.604651</td>\n",
       "    </tr>\n",
       "    <tr>\n",
       "      <th>7</th>\n",
       "      <td>Subduction Zone / Crust Thickness Unknown</td>\n",
       "      <td>545.409639</td>\n",
       "    </tr>\n",
       "    <tr>\n",
       "      <th>9</th>\n",
       "      <td>Subduction Zone / Oceanic Crust (&lt; 15 km)</td>\n",
       "      <td>484.679389</td>\n",
       "    </tr>\n",
       "    <tr>\n",
       "      <th>10</th>\n",
       "      <td>Unknown</td>\n",
       "      <td>467.375000</td>\n",
       "    </tr>\n",
       "    <tr>\n",
       "      <th>5</th>\n",
       "      <td>Rift Zone / Oceanic Crust (&lt; 15 km)</td>\n",
       "      <td>291.930693</td>\n",
       "    </tr>\n",
       "  </tbody>\n",
       "</table>\n",
       "</div>"
      ],
      "text/plain": [
       "                                   Tectonic Setting  Elevation (Meters)\n",
       "6      Subduction Zone / Continental Crust (>25 km)         2317.236220\n",
       "0           Intraplate / Continental Crust (>25 km)         1846.282051\n",
       "3            Rift Zone / Continental Crust (>25 km)         1787.412844\n",
       "1        Intraplate / Intermediate Crust (15-25 km)         1375.600000\n",
       "8   Subduction Zone / Intermediate Crust (15-25 km)         1018.974359\n",
       "2              Intraplate / Oceanic Crust (< 15 km)          927.645161\n",
       "4         Rift Zone / Intermediate Crust (15-25 km)          858.604651\n",
       "7         Subduction Zone / Crust Thickness Unknown          545.409639\n",
       "9         Subduction Zone / Oceanic Crust (< 15 km)          484.679389\n",
       "10                                          Unknown          467.375000\n",
       "5               Rift Zone / Oceanic Crust (< 15 km)          291.930693"
      ]
     },
     "execution_count": 43,
     "metadata": {},
     "output_type": "execute_result"
    }
   ],
   "source": [
    "elevation"
   ]
  },
  {
   "cell_type": "code",
   "execution_count": 46,
   "metadata": {},
   "outputs": [
    {
     "data": {
      "image/png": "[encoded data removed]",
      "text/plain": [
       "<Figure size 1080x576 with 1 Axes>"
      ]
     },
     "metadata": {
      "needs_background": "light"
     },
     "output_type": "display_data"
    }
   ],
   "source": [
    "f, ax = plt.subplots(figsize=(15,8))\n",
    "sns.barplot(y=elevation[\"Tectonic Setting\"],x=elevation[\"Elevation (Meters)\"],palette=\"rocket\",edgecolor='black')\n",
    "plt.ylabel(\"Type of Tectonic setting\", fontsize=15)\n",
    "plt.yticks(fontsize=10)\n",
    "plt.xlabel(\"Count\", fontsize=15)\n",
    "plt.title(\"Average Elevation by tectonic setting\",fontsize=15)\n",
    "plt.show()"
   ]
  },
  {
   "cell_type": "code",
   "execution_count": null,
   "metadata": {},
   "outputs": [],
   "source": []
  }
 ],
 "metadata": {
  "kernelspec": {
   "display_name": "Python 3",
   "language": "python",
   "name": "python3"
  },
  "language_info": {
   "codemirror_mode": {
    "name": "ipython",
    "version": 3
   },
   "file_extension": ".py",
   "mimetype": "text/x-python",
   "name": "python",
   "nbconvert_exporter": "python",
   "pygments_lexer": "ipython3",
   "version": "3.8.3"
  }
 },
 "nbformat": 4,
 "nbformat_minor": 4
}
